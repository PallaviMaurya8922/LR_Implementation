{
 "cells": [
  {
   "cell_type": "code",
   "execution_count": 13,
   "metadata": {},
   "outputs": [],
   "source": [
    "import numpy as np\n",
    "import pandas as pd\n",
    "from sklearn.linear_model import SGDRegressor\n",
    "from sklearn.model_selection import train_test_split\n",
    "from sklearn.metrics import r2_score, mean_squared_error"
   ]
  },
  {
   "cell_type": "code",
   "execution_count": 14,
   "metadata": {},
   "outputs": [],
   "source": [
    "class SGDRegresserCustom:\n",
    "    def __init__(self):\n",
    "        self._coef = None\n",
    "        self._intercept = None\n",
    "    \n",
    "    def fit(self, X, y, learning_rate=0.001, n_iterations=800):\n",
    "        m, n = X.shape\n",
    "        X_b = np.c_[np.ones((m, 1)), X]  # Add bias term\n",
    "        y = y.to_numpy().reshape(-1, 1)  # For pandas Series   \n",
    "        y = y.reshape(-1, 1)\n",
    "        theta = np.random.randn(n + 1, 1)  # Random initialization\n",
    "\n",
    "        for iteration in range(n_iterations): \n",
    "            for i in range(m):  # Iterate through each sample\n",
    "                random_index = np.random.randint(m)  # Pick a random sample\n",
    "                xi = X_b[random_index:random_index+1]  # Select the feature\n",
    "                yi = y[random_index:random_index+1]  # Select the target\n",
    "                gradient = 2 * xi.T.dot(xi.dot(theta) - yi)  # Compute gradient\n",
    "                theta -= learning_rate * gradient  # Update parameters\n",
    "\n",
    "        self._intercept = theta[0, 0]  # Extract intercept as scalar\n",
    "        self._coef = theta[1:].flatten().tolist()  # Convert coefficients to a list\n",
    "\n",
    "        return self._intercept, self._coef\n",
    "    \n",
    "    def predict(self, X_test):\n",
    "        return X_test.dot(self._coef)+ self._intercept"
   ]
  },
  {
   "cell_type": "markdown",
   "metadata": {},
   "source": [
    "**Results on dataset 1: _Boston Housing Dataset_**"
   ]
  },
  {
   "cell_type": "code",
   "execution_count": 15,
   "metadata": {},
   "outputs": [],
   "source": [
    "data = pd.read_csv('Boston.csv')\n",
    "data = data.iloc[:, 1:]\n",
    "X = data.iloc[:, :-1]  # All columns except the last one\n",
    "Y = data.iloc[:, -1]   # Only the last column\n",
    "# Split data into training and test sets\n",
    "X_train, X_test, Y_train, Y_test = train_test_split(X, Y, test_size=0.2, random_state=42)"
   ]
  },
  {
   "cell_type": "code",
   "execution_count": 16,
   "metadata": {},
   "outputs": [],
   "source": [
    "# Do feature scaling of the data\n",
    "from sklearn.preprocessing import StandardScaler\n",
    "scaler = StandardScaler()\n",
    "X_train_transformed = scaler.fit_transform(X_train)\n",
    "X_test_transformed = scaler.transform(X_test) "
   ]
  },
  {
   "cell_type": "code",
   "execution_count": 17,
   "metadata": {},
   "outputs": [
    {
     "data": {
      "text/plain": [
       "(22.735206598163924,\n",
       " [-1.0343975366940732,\n",
       "  0.8810635680559141,\n",
       "  0.4038468227545614,\n",
       "  1.3006093218170856,\n",
       "  -2.0538590733039683,\n",
       "  3.0848126408943677,\n",
       "  -0.3342056513542198,\n",
       "  -2.9689652043840264,\n",
       "  2.4474714409614906,\n",
       "  -1.635300656627362,\n",
       "  -1.9689001020216175,\n",
       "  1.0851917368732382,\n",
       "  -3.6019315330017156])"
      ]
     },
     "execution_count": 17,
     "metadata": {},
     "output_type": "execute_result"
    }
   ],
   "source": [
    "# Results using custom model\n",
    "\n",
    "sgd_custom = SGDRegresserCustom()\n",
    "sgd_custom.fit(X_train_transformed, Y_train)"
   ]
  },
  {
   "cell_type": "code",
   "execution_count": 18,
   "metadata": {},
   "outputs": [
    {
     "name": "stdout",
     "output_type": "stream",
     "text": [
      "MSE:  23.998118391961302\n",
      "R2 Score: 0.6727549383413589\n"
     ]
    }
   ],
   "source": [
    "# Results from custom model\n",
    "pred_custom = sgd_custom.predict(X_test_transformed)\n",
    "print(\"MSE: \",mean_squared_error(Y_test, pred_custom))\n",
    "print(\"R2 Score:\", r2_score(Y_test, pred_custom))"
   ]
  },
  {
   "cell_type": "code",
   "execution_count": null,
   "metadata": {},
   "outputs": [
    {
     "name": "stdout",
     "output_type": "stream",
     "text": [
      "MSE:  24.918906451717632\n",
      "R2 Score: 0.6601988145458185\n"
     ]
    }
   ],
   "source": [
    "# Results from sklearn's model\n",
    "sgd_sklearn = SGDRegressor()\n",
    "sgd_sklearn.fit(X_train_transformed, Y_train)\n",
    "sklearn_pred = sgd_sklearn.predict(X_test_transformed)\n",
    "print(\"MSE: \", mean_squared_error(Y_test, sklearn_pred))\n",
    "print(\"R2 Score:\", r2_score(Y_test, sklearn_pred)) "
   ]
  },
  {
   "cell_type": "markdown",
   "metadata": {},
   "source": [
    "**Results on dataset 2: _Advertising Dataset_**"
   ]
  },
  {
   "cell_type": "code",
   "execution_count": null,
   "metadata": {},
   "outputs": [],
   "source": []
  },
  {
   "cell_type": "code",
   "execution_count": null,
   "metadata": {},
   "outputs": [],
   "source": []
  }
 ],
 "metadata": {
  "kernelspec": {
   "display_name": "Python 3",
   "language": "python",
   "name": "python3"
  },
  "language_info": {
   "codemirror_mode": {
    "name": "ipython",
    "version": 3
   },
   "file_extension": ".py",
   "mimetype": "text/x-python",
   "name": "python",
   "nbconvert_exporter": "python",
   "pygments_lexer": "ipython3",
   "version": "3.12.4"
  }
 },
 "nbformat": 4,
 "nbformat_minor": 2
}
