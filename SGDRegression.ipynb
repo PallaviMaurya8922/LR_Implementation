{
 "cells": [
  {
   "cell_type": "code",
   "execution_count": 4,
   "metadata": {},
   "outputs": [],
   "source": [
    "import numpy as np\n",
    "import pandas as pd\n",
    "from sklearn.linear_model import SGDRegressor\n",
    "from sklearn.model_selection import train_test_split\n",
    "from sklearn.metrics import r2_score, mean_squared_error"
   ]
  },
  {
   "cell_type": "code",
   "execution_count": 5,
   "metadata": {},
   "outputs": [],
   "source": [
    "class SGDRegresserCustom:\n",
    "    def __init__(self):\n",
    "        self._coef = None\n",
    "        self._intercept = None\n",
    "    \n",
    "    def fit(self, X, y, learning_rate=0.001, n_iterations=800):\n",
    "        m, n = X.shape\n",
    "        X_b = np.c_[np.ones((m, 1)), X]  # Add bias term\n",
    "        y = y.to_numpy().reshape(-1, 1)  # For pandas Series   \n",
    "        y = y.reshape(-1, 1)\n",
    "        theta = np.random.randn(n + 1, 1)  # Random initialization\n",
    "\n",
    "        for iteration in range(n_iterations): \n",
    "            for i in range(m):  # Iterate through each sample\n",
    "                random_index = np.random.randint(m)  # Pick a random sample\n",
    "                xi = X_b[random_index:random_index+1]  # Select the feature\n",
    "                yi = y[random_index:random_index+1]  # Select the target\n",
    "                gradient = 2 * xi.T.dot(xi.dot(theta) - yi)  # Compute gradient\n",
    "                theta -= learning_rate * gradient  # Update parameters\n",
    "\n",
    "        self._intercept = theta[0, 0]  # Extract intercept as scalar\n",
    "        self._coef = theta[1:].flatten().tolist()  # Convert coefficients to a list\n",
    "\n",
    "        return self._intercept, self._coef\n",
    "    \n",
    "    def predict(self, X_test):\n",
    "        return X_test.dot(self._coef)+ self._intercept"
   ]
  },
  {
   "cell_type": "markdown",
   "metadata": {},
   "source": [
    "**Result on dataset 1: _Boston Housing Dataset_**"
   ]
  },
  {
   "cell_type": "code",
   "execution_count": 6,
   "metadata": {},
   "outputs": [],
   "source": [
    "data = pd.read_csv('BostonHousing.csv')\n",
    "data = data.iloc[:, 1:]\n",
    "X = data.iloc[:, :-1]  # All columns except the last one\n",
    "Y = data.iloc[:, -1]   # Only the last column\n",
    "# Split data into training and test sets\n",
    "X_train, X_test, Y_train, Y_test = train_test_split(X, Y, test_size=0.2, random_state=42)"
   ]
  },
  {
   "cell_type": "code",
   "execution_count": 7,
   "metadata": {},
   "outputs": [],
   "source": [
    "# Do feature scaling of the data\n",
    "from sklearn.preprocessing import StandardScaler\n",
    "scaler = StandardScaler()\n",
    "X_train_transformed = scaler.fit_transform(X_train)\n",
    "X_test_transformed = scaler.transform(X_test) "
   ]
  },
  {
   "cell_type": "code",
   "execution_count": 8,
   "metadata": {},
   "outputs": [
    {
     "name": "stdout",
     "output_type": "stream",
     "text": [
      "MSE:  23.948665803648723\n",
      "R2 Score: 0.6734292876818868\n"
     ]
    }
   ],
   "source": [
    "# Results using custom model\n",
    "sgd_custom1 = SGDRegresserCustom()\n",
    "sgd_custom1.fit(X_train_transformed, Y_train)\n",
    "pred_custom = sgd_custom1.predict(X_test_transformed)\n",
    "print(\"MSE: \",mean_squared_error(Y_test, pred_custom))\n",
    "print(\"R2 Score:\", r2_score(Y_test, pred_custom))"
   ]
  },
  {
   "cell_type": "code",
   "execution_count": 9,
   "metadata": {},
   "outputs": [
    {
     "name": "stdout",
     "output_type": "stream",
     "text": [
      "MSE:  24.52464370408855\n",
      "R2 Score: 0.6655750917626524\n"
     ]
    }
   ],
   "source": [
    "# Results from sklearn's model\n",
    "sgd_sklearn1 = SGDRegressor()\n",
    "sgd_sklearn1.fit(X_train_transformed, Y_train)\n",
    "sklearn_pred = sgd_sklearn1.predict(X_test_transformed)\n",
    "print(\"MSE: \", mean_squared_error(Y_test, sklearn_pred))\n",
    "print(\"R2 Score:\", r2_score(Y_test, sklearn_pred))"
   ]
  },
  {
   "cell_type": "markdown",
   "metadata": {},
   "source": [
    "**Result on dataset 2: _Advertising Dataset_**"
   ]
  },
  {
   "cell_type": "code",
   "execution_count": 10,
   "metadata": {},
   "outputs": [],
   "source": [
    "data = pd.read_csv('advertising.csv')\n",
    "data = data.iloc[:, 1:]\n",
    "X = data.iloc[:, :-1]  # All columns except the last one\n",
    "Y = data.iloc[:, -1]   # Only the last column\n",
    "# Split data into training and test sets\n",
    "X_train, X_test, Y_train, Y_test = train_test_split(X, Y, test_size=0.2, random_state=42)\n",
    "\n",
    "# Do feature scaling of the data\n",
    "from sklearn.preprocessing import StandardScaler\n",
    "scaler = StandardScaler()\n",
    "X_train_transformed = scaler.fit_transform(X_train)\n",
    "X_test_transformed = scaler.transform(X_test)"
   ]
  },
  {
   "cell_type": "code",
   "execution_count": 11,
   "metadata": {},
   "outputs": [
    {
     "name": "stdout",
     "output_type": "stream",
     "text": [
      "MSE:  26.738296425520854\n",
      "R2 Score: 0.13471376664517254\n"
     ]
    }
   ],
   "source": [
    "# Results using custom model\n",
    "sgd_custom2 = SGDRegresserCustom()\n",
    "sgd_custom2.fit(X_train_transformed, Y_train)\n",
    "pred_custom = sgd_custom2.predict(X_test_transformed)\n",
    "print(\"MSE: \",mean_squared_error(Y_test, pred_custom))\n",
    "print(\"R2 Score:\", r2_score(Y_test, pred_custom))"
   ]
  },
  {
   "cell_type": "code",
   "execution_count": 12,
   "metadata": {},
   "outputs": [
    {
     "name": "stdout",
     "output_type": "stream",
     "text": [
      "MSE:  27.459854273854894\n",
      "R2 Score: 0.11136321121724158\n"
     ]
    }
   ],
   "source": [
    "# Results from sklearn's model\n",
    "sgd_sklearn2 = SGDRegressor()\n",
    "sgd_sklearn2.fit(X_train_transformed, Y_train)\n",
    "sklearn_pred = sgd_sklearn2.predict(X_test_transformed)\n",
    "print(\"MSE: \", mean_squared_error(Y_test, sklearn_pred))\n",
    "print(\"R2 Score:\", r2_score(Y_test, sklearn_pred)) "
   ]
  }
 ],
 "metadata": {
  "kernelspec": {
   "display_name": "Python 3",
   "language": "python",
   "name": "python3"
  },
  "language_info": {
   "codemirror_mode": {
    "name": "ipython",
    "version": 3
   },
   "file_extension": ".py",
   "mimetype": "text/x-python",
   "name": "python",
   "nbconvert_exporter": "python",
   "pygments_lexer": "ipython3",
   "version": "3.12.4"
  }
 },
 "nbformat": 4,
 "nbformat_minor": 2
}
