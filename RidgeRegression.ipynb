{
 "cells": [
  {
   "cell_type": "code",
   "execution_count": 1,
   "metadata": {},
   "outputs": [],
   "source": [
    "from sklearn.preprocessing import StandardScaler\n",
    "from sklearn.model_selection import train_test_split\n",
    "from sklearn.linear_model import Ridge\n",
    "from sklearn.metrics import mean_squared_error, r2_score\n",
    "import pandas as pd"
   ]
  },
  {
   "cell_type": "markdown",
   "metadata": {},
   "source": [
    "## __Using Closed Form Solution__ ##"
   ]
  },
  {
   "cell_type": "code",
   "execution_count": 2,
   "metadata": {},
   "outputs": [],
   "source": [
    "import numpy as np\n",
    "\n",
    "class RidgeRegression:\n",
    "    def __init__(self, alpha=0.1):\n",
    "        self.alpha = alpha\n",
    "        self.coef_ = None\n",
    "        self.intercept_ = None\n",
    "\n",
    "    def fit(self, X_train, y_train):\n",
    "        X_train = np.insert(X_train, 0, 1, axis=1)\n",
    "        I = np.identity(X_train.shape[1])\n",
    "        I[0][0] = 0\n",
    "        result = np.linalg.inv(np.dot(X_train.T, X_train) + self.alpha * I).dot(X_train.T).dot(y_train)\n",
    "        self.intercept_ = result[0]\n",
    "        self.coef_ = result[1:]\n",
    "\n",
    "    def predict(self, X_test):\n",
    "        return np.dot(X_test, self.coef_) + self.intercept_"
   ]
  },
  {
   "cell_type": "markdown",
   "metadata": {},
   "source": [
    "**Result on Dataset 1: _Boston Housing Dataset_**"
   ]
  },
  {
   "cell_type": "code",
   "execution_count": 3,
   "metadata": {},
   "outputs": [],
   "source": [
    "data = pd.read_csv('BostonHousing.csv')\n",
    "data = data.iloc[:, 1:]\n",
    "X = data.iloc[:, :-1]  # All columns except the last one\n",
    "Y = data.iloc[:, -1]   # Only the last column\n",
    "\n",
    "# Split data into training and test sets\n",
    "X_train, X_test, Y_train, Y_test = train_test_split(X, Y, test_size=0.2, random_state=42)\n",
    "\n",
    "# Do feature scaling of the data\n",
    "scaler = StandardScaler()\n",
    "X_train_transformed = scaler.fit_transform(X_train)\n",
    "X_test_transformed = scaler.transform(X_test) "
   ]
  },
  {
   "cell_type": "code",
   "execution_count": 4,
   "metadata": {},
   "outputs": [
    {
     "name": "stdout",
     "output_type": "stream",
     "text": [
      "MSE:  24.34875081306716\n",
      "R2:  0.6679736164731103\n"
     ]
    }
   ],
   "source": [
    "# Results using custom model\n",
    "ridge_custom = RidgeRegression(alpha=0.01)\n",
    "ridge_custom.fit(X_train_transformed, Y_train)\n",
    "y_custom_ridge = ridge_custom.predict(X_test_transformed)\n",
    "mse = mean_squared_error(Y_test, y_custom_ridge)\n",
    "r2 = r2_score(Y_test, y_custom_ridge )\n",
    "print(\"MSE: \", mse)\n",
    "print(\"R2: \", r2)"
   ]
  },
  {
   "cell_type": "code",
   "execution_count": 5,
   "metadata": {},
   "outputs": [
    {
     "name": "stdout",
     "output_type": "stream",
     "text": [
      "MSE:  24.348750813067145\n",
      "R2:  0.6679736164731105\n"
     ]
    }
   ],
   "source": [
    "# Results using sklearn model\n",
    "ridge = Ridge(alpha=0.01)\n",
    "ridge.fit(X_train_transformed, Y_train)\n",
    "y_sklearn_ridge = ridge.predict(X_test_transformed)\n",
    "mse = mean_squared_error(Y_test, y_sklearn_ridge)\n",
    "r2 = r2_score(Y_test, y_sklearn_ridge)\n",
    "print(\"MSE: \", mse)\n",
    "print(\"R2: \", r2) "
   ]
  },
  {
   "cell_type": "markdown",
   "metadata": {},
   "source": [
    "**Result on Dataset 2: _Advertising Dataset_**"
   ]
  },
  {
   "cell_type": "code",
   "execution_count": 6,
   "metadata": {},
   "outputs": [],
   "source": [
    "data = pd.read_csv('Advertising.csv')\n",
    "data = data.iloc[:, 1:]\n",
    "X = data.iloc[:, :-1]  # All columns except the last one\n",
    "Y = data.iloc[:, -1]   # Only the last column\n",
    "\n",
    "# Split data into training and test sets\n",
    "X_train, X_test, Y_train, Y_test = train_test_split(X, Y, test_size=0.2, random_state=42)\n",
    "\n",
    "# Do feature scaling of the data\n",
    "scaler = StandardScaler()\n",
    "X_train_transformed = scaler.fit_transform(X_train)\n",
    "X_test_transformed = scaler.transform(X_test) "
   ]
  },
  {
   "cell_type": "code",
   "execution_count": 7,
   "metadata": {},
   "outputs": [
    {
     "name": "stdout",
     "output_type": "stream",
     "text": [
      "MSE:  27.50064935992029\n",
      "R2:  0.11004302889151873\n"
     ]
    }
   ],
   "source": [
    "# Results using custom model\n",
    "ridge_custom = RidgeRegression(alpha=0.01)\n",
    "ridge_custom.fit(X_train_transformed, Y_train)\n",
    "y_custom_ridge = ridge_custom.predict(X_test_transformed)\n",
    "mse = mean_squared_error(Y_test, y_custom_ridge)\n",
    "r2 = r2_score(Y_test, y_custom_ridge )\n",
    "print(\"MSE: \", mse)\n",
    "print(\"R2: \", r2)"
   ]
  },
  {
   "cell_type": "code",
   "execution_count": 8,
   "metadata": {},
   "outputs": [
    {
     "name": "stdout",
     "output_type": "stream",
     "text": [
      "MSE:  27.50064935992027\n",
      "R2:  0.11004302889151929\n"
     ]
    }
   ],
   "source": [
    "# Results using sklearn model\n",
    "ridge = Ridge(alpha=0.01)\n",
    "ridge.fit(X_train_transformed, Y_train)\n",
    "y_sklearn_ridge = ridge.predict(X_test_transformed)\n",
    "mse = mean_squared_error(Y_test, y_sklearn_ridge)\n",
    "r2 = r2_score(Y_test, y_sklearn_ridge)\n",
    "print(\"MSE: \", mse)\n",
    "print(\"R2: \", r2) "
   ]
  },
  {
   "cell_type": "markdown",
   "metadata": {},
   "source": [
    "## __Implementation using Stochastic Average Gradient (SAG)__ ##"
   ]
  },
  {
   "cell_type": "code",
   "execution_count": 9,
   "metadata": {},
   "outputs": [],
   "source": [
    "import numpy as np\n",
    "\n",
    "class RidgeRegressionSAG:\n",
    "    def __init__(self, alpha=0.1, lr=0.01, n_iters=1000, tol=1e-4, random_state=None, fit_intercept=True):\n",
    "        self.alpha = alpha\n",
    "        self.lr = lr\n",
    "        self.n_iters = n_iters\n",
    "        self.tol = tol\n",
    "        self.random_state = random_state\n",
    "        self.fit_intercept = fit_intercept\n",
    "        self.coef_ = None\n",
    "        self.intercept_ = None\n",
    "\n",
    "    def fit(self, X, y):\n",
    "        X = np.array(X, dtype=float)\n",
    "        y = np.array(y, dtype=float).flatten()\n",
    "\n",
    "        n_samples, n_features = X.shape\n",
    "\n",
    "        # Handle intercept by centering\n",
    "        if self.fit_intercept:\n",
    "            self.X_mean_ = X.mean(axis=0)\n",
    "            self.y_mean_ = y.mean()\n",
    "            X = X - self.X_mean_\n",
    "            y = y - self.y_mean_\n",
    "        else:\n",
    "            self.X_mean_ = np.zeros(n_features)\n",
    "            self.y_mean_ = 0.0\n",
    "\n",
    "        # Initialize\n",
    "        self.coef_ = np.zeros(n_features)\n",
    "        gradient_memory = np.zeros((n_samples, n_features))\n",
    "        gradient_sum = np.zeros(n_features)\n",
    "        prev_coef = np.copy(self.coef_)\n",
    "\n",
    "        rng = np.random.default_rng(self.random_state)\n",
    "\n",
    "        for it in range(self.n_iters):\n",
    "            i = rng.integers(0, n_samples)\n",
    "            xi = X[i]\n",
    "            yi = y[i]\n",
    "\n",
    "            y_pred_i = np.dot(xi, self.coef_)\n",
    "            error_i = y_pred_i - yi\n",
    "\n",
    "            grad_i = 2 * xi * error_i + 2 * self.alpha * self.coef_\n",
    "\n",
    "            # SAG memory update\n",
    "            gradient_sum -= gradient_memory[i]\n",
    "            gradient_sum += grad_i\n",
    "            gradient_memory[i] = grad_i\n",
    "\n",
    "            avg_grad = gradient_sum / n_samples\n",
    "\n",
    "            self.coef_ -= self.lr * avg_grad\n",
    "\n",
    "            coef_change = np.linalg.norm(self.coef_ - prev_coef)\n",
    "            if coef_change < self.tol:\n",
    "                print(f\"Converged after {it + 1} iterations with change {coef_change:.5f}\")\n",
    "                break\n",
    "\n",
    "            prev_coef = np.copy(self.coef_)\n",
    "\n",
    "        # Set final intercept after training\n",
    "        if self.fit_intercept:\n",
    "            self.intercept_ = self.y_mean_ - np.dot(self.X_mean_, self.coef_)\n",
    "        else:\n",
    "            self.intercept_ = 0.0\n",
    "\n",
    "    def predict(self, X):\n",
    "        X = np.array(X, dtype=float)\n",
    "        return np.dot(X, self.coef_) + self.intercept_\n"
   ]
  },
  {
   "cell_type": "markdown",
   "metadata": {},
   "source": [
    "**Result on Dataset 1: _Boston Housing Dataset_**"
   ]
  },
  {
   "cell_type": "code",
   "execution_count": 10,
   "metadata": {},
   "outputs": [],
   "source": [
    "data = pd.read_csv('BostonHousing.csv')\n",
    "data = data.iloc[:, 1:]\n",
    "X = data.iloc[:, :-1]  # All columns except the last one\n",
    "Y = data.iloc[:, -1]   # Only the last column\n",
    "\n",
    "# Split data into training and test sets\n",
    "X_train, X_test, Y_train, Y_test = train_test_split(X, Y, test_size=0.2, random_state=42)\n",
    "\n",
    "# Do feature scaling of the data\n",
    "scaler = StandardScaler()\n",
    "X_train_transformed = scaler.fit_transform(X_train)\n",
    "X_test_transformed = scaler.transform(X_test) "
   ]
  },
  {
   "cell_type": "code",
   "execution_count": 11,
   "metadata": {},
   "outputs": [
    {
     "name": "stdout",
     "output_type": "stream",
     "text": [
      "MSE:  26.95358605724617\n",
      "R2:  0.6324533537521171\n"
     ]
    }
   ],
   "source": [
    "# Results using custom model\n",
    "ridge_custom = RidgeRegressionSAG(alpha=0.01)\n",
    "ridge_custom.fit(X_train_transformed, Y_train)\n",
    "y_custom_ridge = ridge_custom.predict(X_test_transformed)\n",
    "mse = mean_squared_error(Y_test, y_custom_ridge)\n",
    "r2 = r2_score(Y_test, y_custom_ridge )\n",
    "print(\"MSE: \", mse)\n",
    "print(\"R2: \", r2)"
   ]
  },
  {
   "cell_type": "code",
   "execution_count": 12,
   "metadata": {},
   "outputs": [
    {
     "name": "stdout",
     "output_type": "stream",
     "text": [
      "MSE:  24.34841377722394\n",
      "R2:  0.6679782123882355\n"
     ]
    }
   ],
   "source": [
    "# Results using sklearn model\n",
    "ridge = Ridge(alpha=0.01, solver='sag')\n",
    "ridge.fit(X_train_transformed, Y_train)\n",
    "y_sklearn_ridge = ridge.predict(X_test_transformed)\n",
    "mse = mean_squared_error(Y_test, y_sklearn_ridge)\n",
    "r2 = r2_score(Y_test, y_sklearn_ridge)\n",
    "print(\"MSE: \", mse)\n",
    "print(\"R2: \", r2) "
   ]
  },
  {
   "cell_type": "markdown",
   "metadata": {},
   "source": [
    "**Result on Dataset 2: _Advertising Dataset_**"
   ]
  },
  {
   "cell_type": "code",
   "execution_count": 13,
   "metadata": {},
   "outputs": [],
   "source": [
    "data = pd.read_csv('Advertising.csv')\n",
    "data = data.iloc[:, 1:]\n",
    "X = data.iloc[:, :-1]  # All columns except the last one\n",
    "Y = data.iloc[:, -1]   # Only the last column\n",
    "\n",
    "# Split data into training and test sets\n",
    "X_train, X_test, Y_train, Y_test = train_test_split(X, Y, test_size=0.2, random_state=42)\n",
    "\n",
    "# Do feature scaling of the data\n",
    "scaler = StandardScaler()\n",
    "X_train_transformed_a = scaler.fit_transform(X_train)\n",
    "X_test_transformed_a = scaler.transform(X_test) "
   ]
  },
  {
   "cell_type": "code",
   "execution_count": 14,
   "metadata": {},
   "outputs": [
    {
     "name": "stdout",
     "output_type": "stream",
     "text": [
      "MSE:  27.55011995557022\n",
      "R2:  0.10844209573218355\n"
     ]
    }
   ],
   "source": [
    "# Results using custom model\n",
    "ridge_custom = RidgeRegressionSAG(alpha=0.01)\n",
    "ridge_custom.fit(X_train_transformed_a, Y_train)\n",
    "y_custom_ridge = ridge_custom.predict(X_test_transformed_a)\n",
    "mse = mean_squared_error(Y_test, y_custom_ridge)\n",
    "r2 = r2_score(Y_test, y_custom_ridge )\n",
    "print(\"MSE: \", mse)\n",
    "print(\"R2: \", r2)"
   ]
  },
  {
   "cell_type": "code",
   "execution_count": 15,
   "metadata": {},
   "outputs": [
    {
     "name": "stdout",
     "output_type": "stream",
     "text": [
      "MSE:  27.500630633853376\n",
      "R2:  0.1100436348915288\n"
     ]
    }
   ],
   "source": [
    "# Results using sklearn model\n",
    "ridge = Ridge(alpha=0.01, solver='sag')\n",
    "ridge.fit(X_train_transformed_a, Y_train)\n",
    "y_sklearn_ridge = ridge.predict(X_test_transformed_a)\n",
    "mse = mean_squared_error(Y_test, y_sklearn_ridge)\n",
    "r2 = r2_score(Y_test, y_sklearn_ridge)\n",
    "print(\"MSE: \", mse)\n",
    "print(\"R2: \", r2) "
   ]
  }
 ],
 "metadata": {
  "kernelspec": {
   "display_name": "Python 3",
   "language": "python",
   "name": "python3"
  },
  "language_info": {
   "codemirror_mode": {
    "name": "ipython",
    "version": 3
   },
   "file_extension": ".py",
   "mimetype": "text/x-python",
   "name": "python",
   "nbconvert_exporter": "python",
   "pygments_lexer": "ipython3",
   "version": "3.12.4"
  }
 },
 "nbformat": 4,
 "nbformat_minor": 2
}
