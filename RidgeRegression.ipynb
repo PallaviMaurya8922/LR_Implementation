{
 "cells": [
  {
   "cell_type": "code",
   "execution_count": 2,
   "metadata": {},
   "outputs": [],
   "source": [
    "from sklearn.preprocessing import StandardScaler\n",
    "from sklearn.model_selection import train_test_split\n",
    "from sklearn.linear_model import Ridge\n",
    "from sklearn.metrics import mean_squared_error, r2_score\n",
    "import pandas as pd"
   ]
  },
  {
   "cell_type": "code",
   "execution_count": 3,
   "metadata": {},
   "outputs": [],
   "source": [
    "import numpy as np\n",
    "\n",
    "class RidgeRegression:\n",
    "    def __init__(self, alpha=0.1):\n",
    "        self.alpha = alpha\n",
    "        self.coef_ = None\n",
    "        self.intercept_ = None\n",
    "\n",
    "    def fit(self, X_train, y_train):\n",
    "        X_train = np.insert(X_train, 0, 1, axis=1)\n",
    "        I = np.identity(X_train.shape[1])\n",
    "        I[0][0] = 0\n",
    "        result = np.linalg.inv(np.dot(X_train.T, X_train) + self.alpha * I).dot(X_train.T).dot(y_train)\n",
    "        self.intercept_ = result[0]\n",
    "        self.coef_ = result[1:]\n",
    "\n",
    "    def predict(self, X_test):\n",
    "        return np.dot(X_test, self.coef_) + self.intercept_"
   ]
  },
  {
   "cell_type": "markdown",
   "metadata": {},
   "source": [
    "**Results on Dataset 1: _Boston Housing Dataset_**"
   ]
  },
  {
   "cell_type": "code",
   "execution_count": 4,
   "metadata": {},
   "outputs": [],
   "source": [
    "data = pd.read_csv('Boston.csv')\n",
    "data = data.iloc[:, 1:]\n",
    "X = data.iloc[:, :-1]  # All columns except the last one\n",
    "Y = data.iloc[:, -1]   # Only the last column\n",
    "\n",
    "# Split data into training and test sets\n",
    "X_train, X_test, Y_train, Y_test = train_test_split(X, Y, test_size=0.2, random_state=42)\n",
    "\n",
    "# Do feature scaling of the data\n",
    "scaler = StandardScaler()\n",
    "X_train_transformed = scaler.fit_transform(X_train)\n",
    "X_test_transformed = scaler.transform(X_test) "
   ]
  },
  {
   "cell_type": "code",
   "execution_count": 5,
   "metadata": {},
   "outputs": [
    {
     "name": "stdout",
     "output_type": "stream",
     "text": [
      "MSE:  24.29133689017155\n",
      "R2:  0.6687565288011172\n"
     ]
    }
   ],
   "source": [
    "# Results using custom model\n",
    "ridge_custom = RidgeRegression(alpha=0.01)\n",
    "ridge_custom.fit(X_train_transformed, Y_train)\n",
    "y_custom_ridge = ridge_custom.predict(X_test_transformed)\n",
    "mse = mean_squared_error(Y_test, y_custom_ridge)\n",
    "r2 = r2_score(Y_test, y_custom_ridge )\n",
    "print(\"MSE: \", mse)\n",
    "print(\"R2: \", r2)"
   ]
  },
  {
   "cell_type": "code",
   "execution_count": 6,
   "metadata": {},
   "outputs": [
    {
     "name": "stdout",
     "output_type": "stream",
     "text": [
      "MSE:  24.291336890171532\n",
      "R2:  0.6687565288011175\n"
     ]
    }
   ],
   "source": [
    "# Results using sklearn model\n",
    "ridge = Ridge(alpha=0.01)\n",
    "ridge.fit(X_train_transformed, Y_train)\n",
    "y_sklearn_ridge = ridge.predict(X_test_transformed)\n",
    "mse = mean_squared_error(Y_test, y_sklearn_ridge)\n",
    "r2 = r2_score(Y_test, y_sklearn_ridge)\n",
    "print(\"MSE: \", mse)\n",
    "print(\"R2: \", r2) "
   ]
  },
  {
   "cell_type": "markdown",
   "metadata": {},
   "source": [
    "**Results on Dataset 2: _Advertising Dataset_**"
   ]
  },
  {
   "cell_type": "code",
   "execution_count": 7,
   "metadata": {},
   "outputs": [],
   "source": [
    "data = pd.read_csv('Advertising.csv')\n",
    "data = data.iloc[:, 1:]\n",
    "X = data.iloc[:, :-1]  # All columns except the last one\n",
    "Y = data.iloc[:, -1]   # Only the last column\n",
    "\n",
    "# Split data into training and test sets\n",
    "X_train, X_test, Y_train, Y_test = train_test_split(X, Y, test_size=0.2, random_state=42)\n",
    "\n",
    "# Do feature scaling of the data\n",
    "scaler = StandardScaler()\n",
    "X_train_transformed = scaler.fit_transform(X_train)\n",
    "X_test_transformed = scaler.transform(X_test) "
   ]
  },
  {
   "cell_type": "code",
   "execution_count": 8,
   "metadata": {},
   "outputs": [
    {
     "name": "stdout",
     "output_type": "stream",
     "text": [
      "MSE:  27.50064935992029\n",
      "R2:  0.11004302889151873\n"
     ]
    }
   ],
   "source": [
    "# Results using custom model\n",
    "ridge_custom = RidgeRegression(alpha=0.01)\n",
    "ridge_custom.fit(X_train_transformed, Y_train)\n",
    "y_custom_ridge = ridge_custom.predict(X_test_transformed)\n",
    "mse = mean_squared_error(Y_test, y_custom_ridge)\n",
    "r2 = r2_score(Y_test, y_custom_ridge )\n",
    "print(\"MSE: \", mse)\n",
    "print(\"R2: \", r2)"
   ]
  },
  {
   "cell_type": "code",
   "execution_count": 9,
   "metadata": {},
   "outputs": [
    {
     "name": "stdout",
     "output_type": "stream",
     "text": [
      "MSE:  27.50064935992027\n",
      "R2:  0.11004302889151929\n"
     ]
    }
   ],
   "source": [
    "# Results using sklearn model\n",
    "ridge = Ridge(alpha=0.01)\n",
    "ridge.fit(X_train_transformed, Y_train)\n",
    "y_sklearn_ridge = ridge.predict(X_test_transformed)\n",
    "mse = mean_squared_error(Y_test, y_sklearn_ridge)\n",
    "r2 = r2_score(Y_test, y_sklearn_ridge)\n",
    "print(\"MSE: \", mse)\n",
    "print(\"R2: \", r2) "
   ]
  }
 ],
 "metadata": {
  "kernelspec": {
   "display_name": "Python 3",
   "language": "python",
   "name": "python3"
  },
  "language_info": {
   "codemirror_mode": {
    "name": "ipython",
    "version": 3
   },
   "file_extension": ".py",
   "mimetype": "text/x-python",
   "name": "python",
   "nbconvert_exporter": "python",
   "pygments_lexer": "ipython3",
   "version": "3.12.4"
  }
 },
 "nbformat": 4,
 "nbformat_minor": 2
}
