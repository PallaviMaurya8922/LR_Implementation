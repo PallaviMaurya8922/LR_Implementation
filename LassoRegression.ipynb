{
 "cells": [
  {
   "cell_type": "code",
   "execution_count": 2,
   "metadata": {},
   "outputs": [],
   "source": [
    "import pandas as pd\n",
    "import numpy as np\n",
    "from sklearn.model_selection import train_test_split\n",
    "from sklearn.metrics import mean_squared_error, r2_score\n",
    "from sklearn.linear_model import Lasso\n",
    "from sklearn.datasets import make_regression\n",
    "from sklearn.preprocessing import StandardScaler"
   ]
  },
  {
   "cell_type": "markdown",
   "metadata": {},
   "source": [
    "## __Implementation using Coordinate Descent__ "
   ]
  },
  {
   "cell_type": "code",
   "execution_count": 14,
   "metadata": {},
   "outputs": [],
   "source": [
    "import numpy as np\n",
    "\n",
    "class LassoRegressionCoordinateDescent:\n",
    "    def __init__(self, alpha=0.1, n_iters=1000, tol=1e-4):\n",
    "        self.alpha = alpha\n",
    "        self.n_iters = n_iters\n",
    "        self.tol = tol\n",
    "\n",
    "    def soft_thresholding(self, value, threshold):\n",
    "        if value > threshold:\n",
    "            return value - threshold\n",
    "        elif value < -threshold:\n",
    "            return value + threshold\n",
    "        else:\n",
    "            return 0.0\n",
    "\n",
    "    def fit(self, X, y):\n",
    "        X = np.array(X)\n",
    "        y = np.array(y).flatten()\n",
    "        n_samples, n_features = X.shape\n",
    "\n",
    "        self.weights = np.zeros(n_features)\n",
    "        self.bias = 0.0\n",
    "\n",
    "        for iteration in range(self.n_iters):\n",
    "            weights_old = self.weights.copy()\n",
    "\n",
    "            # Update bias\n",
    "            y_pred = np.dot(X, self.weights) + self.bias\n",
    "            self.bias = np.mean(y - np.dot(X, self.weights))\n",
    "\n",
    "            for j in range(n_features):\n",
    "                # Partial residual excluding feature j\n",
    "                residual = y - (np.dot(X, self.weights) + self.bias) + X[:, j] * self.weights[j]\n",
    "\n",
    "                rho_j = np.dot(X[:, j], residual)\n",
    "\n",
    "                # Update w_j using coordinate descent formula\n",
    "                self.weights[j] = self.soft_thresholding(rho_j / n_samples, self.alpha) / (np.sum(X[:, j] ** 2) / n_samples)\n",
    "\n",
    "            # Convergence check\n",
    "            weight_change = np.linalg.norm(self.weights - weights_old, ord=2)\n",
    "            if weight_change < self.tol:\n",
    "                print(f\"Converged after {iteration+1} iterations with weight change {weight_change:.6f}\")\n",
    "                break\n",
    "\n",
    "    def predict(self, X):\n",
    "        X = np.array(X)\n",
    "        return np.dot(X, self.weights) + self.bias\n"
   ]
  },
  {
   "cell_type": "markdown",
   "metadata": {},
   "source": [
    "**Result on Dataset 1: _Boston Housing Dataset_**"
   ]
  },
  {
   "cell_type": "code",
   "execution_count": 18,
   "metadata": {},
   "outputs": [],
   "source": [
    "data = pd.read_csv('BostonHousing.csv')\n",
    "data = data.iloc[:, 1:]\n",
    "X = data.iloc[:, :-1]  # All columns except the last one\n",
    "Y = data.iloc[:, -1]   # Only the last column\n",
    "\n",
    "# Split data into training and test sets\n",
    "X_train, X_test, Y_train, Y_test = train_test_split(X, Y, test_size=0.2, random_state=42)\n",
    "\n",
    "# Do feature scaling of the data\n",
    "scaler = StandardScaler()\n",
    "X_train_transformed = scaler.fit_transform(X_train)\n",
    "X_test_transformed = scaler.transform(X_test) "
   ]
  },
  {
   "cell_type": "code",
   "execution_count": null,
   "metadata": {},
   "outputs": [
    {
     "name": "stdout",
     "output_type": "stream",
     "text": [
      "Converged after 56 iterations with weight change 0.000087\n",
      "MSE:  24.405492373803956\n",
      "R2:  0.6671998726637565\n"
     ]
    }
   ],
   "source": [
    "# Results using custom model\n",
    "lasso_custom = LassoRegressionCoordinateDescent(alpha=0.01)\n",
    "lasso_custom.fit(X_train_transformed, Y_train)\n",
    "y_custom_lasso = lasso_custom.predict(X_test_transformed)\n",
    "mse = mean_squared_error(Y_test, y_custom_lasso)\n",
    "r2 = r2_score(Y_test, y_custom_lasso )\n",
    "print(\"MSE: \", mse)\n",
    "print(\"R2: \", r2)"
   ]
  },
  {
   "cell_type": "code",
   "execution_count": null,
   "metadata": {},
   "outputs": [
    {
     "name": "stdout",
     "output_type": "stream",
     "text": [
      "MSE:  24.406265599493462\n",
      "R2:  0.6671893287417578\n"
     ]
    }
   ],
   "source": [
    "# Results using sklearn model\n",
    "lasso = Lasso(alpha=0.01)\n",
    "lasso.fit(X_train_transformed, Y_train)\n",
    "y_sklearn_lasso = lasso.predict(X_test_transformed)\n",
    "mse = mean_squared_error(Y_test, y_sklearn_lasso)\n",
    "r2 = r2_score(Y_test, y_sklearn_lasso)\n",
    "print(\"MSE: \", mse)\n",
    "print(\"R2: \", r2) "
   ]
  },
  {
   "cell_type": "markdown",
   "metadata": {},
   "source": [
    "**Result on Dataset 2: _Advertising Dataset_**"
   ]
  },
  {
   "cell_type": "code",
   "execution_count": 23,
   "metadata": {},
   "outputs": [],
   "source": [
    "data = pd.read_csv('Advertising.csv')\n",
    "data = data.iloc[:, 1:]\n",
    "X = data.iloc[:, :-1]  # All columns except the last one\n",
    "Y = data.iloc[:, -1]   # Only the last column\n",
    "\n",
    "# Split data into training and test sets\n",
    "X_train, X_test, Y_train, Y_test = train_test_split(X, Y, test_size=0.2, random_state=42)\n",
    "\n",
    "# Do feature scaling of the data\n",
    "scaler = StandardScaler()\n",
    "X_train_transformed = scaler.fit_transform(X_train)\n",
    "X_test_transformed = scaler.transform(X_test) "
   ]
  },
  {
   "cell_type": "code",
   "execution_count": 24,
   "metadata": {},
   "outputs": [
    {
     "name": "stdout",
     "output_type": "stream",
     "text": [
      "Converged after 5 iterations with weight change 0.000086\n",
      "MSE:  27.514666989502178\n",
      "R2:  0.10958940006982987\n"
     ]
    }
   ],
   "source": [
    "# Results using custom model\n",
    "lasso_custom = LassoRegressionCoordinateDescent(alpha=0.01)\n",
    "lasso_custom.fit(X_train_transformed, Y_train)\n",
    "y_custom_lasso = lasso_custom.predict(X_test_transformed)\n",
    "mse = mean_squared_error(Y_test, y_custom_lasso)\n",
    "r2 = r2_score(Y_test, y_custom_lasso )\n",
    "print(\"MSE: \", mse)\n",
    "print(\"R2: \", r2)"
   ]
  },
  {
   "cell_type": "code",
   "execution_count": 25,
   "metadata": {},
   "outputs": [
    {
     "name": "stdout",
     "output_type": "stream",
     "text": [
      "MSE:  27.51466698950218\n",
      "R2:  0.10958940006982965\n"
     ]
    }
   ],
   "source": [
    "# Results using sklearn model\n",
    "lasso = Lasso(alpha=0.01)\n",
    "lasso.fit(X_train_transformed, Y_train)\n",
    "y_sklearn_lasso = lasso.predict(X_test_transformed)\n",
    "mse = mean_squared_error(Y_test, y_sklearn_lasso)\n",
    "r2 = r2_score(Y_test, y_sklearn_lasso)\n",
    "print(\"MSE: \", mse)\n",
    "print(\"R2: \", r2) "
   ]
  }
 ],
 "metadata": {
  "kernelspec": {
   "display_name": "Python 3",
   "language": "python",
   "name": "python3"
  },
  "language_info": {
   "codemirror_mode": {
    "name": "ipython",
    "version": 3
   },
   "file_extension": ".py",
   "mimetype": "text/x-python",
   "name": "python",
   "nbconvert_exporter": "python",
   "pygments_lexer": "ipython3",
   "version": "3.12.4"
  }
 },
 "nbformat": 4,
 "nbformat_minor": 2
}
