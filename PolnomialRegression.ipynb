{
 "cells": [
  {
   "cell_type": "code",
   "execution_count": null,
   "metadata": {},
   "outputs": [],
   "source": [
    "import numpy as np\n",
    "import pandas as pd\n",
    "from sklearn.datasets import make_regression\n",
    "from sklearn.model_selection import train_test_split\n",
    "from sklearn.preprocessing import PolynomialFeatures\n",
    "from sklearn.linear_model import LinearRegression\n",
    "from sklearn.metrics import mean_squared_error, r2_score"
   ]
  },
  {
   "cell_type": "code",
   "execution_count": 14,
   "metadata": {},
   "outputs": [],
   "source": [
    "class PolynomialRegression:\n",
    "    def __init__(self, degree):\n",
    "        self.degree = degree\n",
    "        self.coefficients = None\n",
    "\n",
    "    def polynomial_features(self, x):\n",
    "        return np.array([x**i for i in range(self.degree + 1)]).T\n",
    "\n",
    "    def fit(self, x, y):\n",
    "        # Step 1: Create polynomial features from x\n",
    "\n",
    "        X_poly = self.polynomial_features(x)\n",
    "        X_poly = np.squeeze(X_poly, axis=0)  # Removes axis 0\n",
    "\n",
    "        # Step 2: Calculate X^T (Transpose of X)\n",
    "        X_transpose = X_poly.T\n",
    "\n",
    "        # Step 3: Multiply X^T by X\n",
    "        X_transpose_X = X_transpose.dot(X_poly)\n",
    "\n",
    "        # Step 4: Find the inverse of (X^T * X)\n",
    "        inverse_term = np.linalg.inv(X_transpose_X)\n",
    "\n",
    "        # Step 5: Multiply the inverse by (X^T * y)\n",
    "        X_transpose_y = X_transpose.dot(y)\n",
    "\n",
    "        # Step 6: Calculate the coefficients using the normal equation\n",
    "        self.coefficients = inverse_term.dot(X_transpose_y)\n",
    "\n",
    "    def predict(self, x):\n",
    "        X_poly = self.polynomial_features(x)\n",
    "        X_poly = np.squeeze(X_poly, axis=0)  \n",
    "        return X_poly.dot(self.coefficients)"
   ]
  },
  {
   "cell_type": "code",
   "execution_count": 8,
   "metadata": {},
   "outputs": [],
   "source": [
    "df = pd.read_csv(\"Ice_cream selling data.csv\")\n",
    "\n",
    "# Define features (x) and target variable (y)\n",
    "x = df.iloc[:,:-1].values  # Temperature values\n",
    "y = df.iloc[:,1:].values   # Ice Cream Sales values"
   ]
  },
  {
   "cell_type": "code",
   "execution_count": 9,
   "metadata": {},
   "outputs": [],
   "source": [
    "# Split the data into training and testing sets\n",
    "X_train, X_test, y_train, y_test = train_test_split(x, y, test_size=0.3, random_state=15)"
   ]
  },
  {
   "cell_type": "code",
   "execution_count": 10,
   "metadata": {},
   "outputs": [
    {
     "name": "stdout",
     "output_type": "stream",
     "text": [
      "MSE:  9.140405025863775\n",
      "R2 score 0.9185542313767752\n"
     ]
    }
   ],
   "source": [
    "# Results with custom model\n",
    "\n",
    "custom_model = PolynomialRegression(4)\n",
    "custom_model.fit(X_train, y_train)\n",
    "custom_pred = custom_model.predict(X_test)\n",
    "print(\"MSE: \", mean_squared_error(y_test, custom_pred))\n",
    "print(\"R2 score\", r2_score(y_test, custom_pred))"
   ]
  },
  {
   "cell_type": "code",
   "execution_count": 11,
   "metadata": {},
   "outputs": [
    {
     "name": "stdout",
     "output_type": "stream",
     "text": [
      "MSE:  9.140405025863702\n",
      "R2 score 0.9185542313767758\n"
     ]
    }
   ],
   "source": [
    "# Results with sklearn model\n",
    "\n",
    "# Initialize PolynomialFeatures with degree 4\n",
    "poly = PolynomialFeatures(degree=4) \n",
    "x_poly = poly.fit_transform(X_train)\n",
    "Regression = LinearRegression() \n",
    "Regression.fit(x_poly, y_train)\n",
    "x_test_poly = poly.fit_transform(X_test)\n",
    "sklearn_pred = Regression.predict(x_test_poly)\n",
    "print(\"MSE: \", mean_squared_error(y_test, sklearn_pred))\n",
    "print(\"R2 score\", r2_score(y_test, sklearn_pred))"
   ]
  }
 ],
 "metadata": {
  "kernelspec": {
   "display_name": "Python 3",
   "language": "python",
   "name": "python3"
  },
  "language_info": {
   "codemirror_mode": {
    "name": "ipython",
    "version": 3
   },
   "file_extension": ".py",
   "mimetype": "text/x-python",
   "name": "python",
   "nbconvert_exporter": "python",
   "pygments_lexer": "ipython3",
   "version": "3.12.4"
  }
 },
 "nbformat": 4,
 "nbformat_minor": 2
}
